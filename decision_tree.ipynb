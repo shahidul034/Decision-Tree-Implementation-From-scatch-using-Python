{
 "cells": [
  {
   "cell_type": "code",
   "execution_count": 16,
   "metadata": {
    "colab": {
     "base_uri": "https://localhost:8080/",
     "height": 269
    },
    "id": "kE7KlGqR89og",
    "outputId": "ef391d1f-b3ea-45b3-e0d0-0641d08e40bb"
   },
   "outputs": [
    {
     "data": {
      "text/html": [
       "\n",
       "  <div id=\"df-07a03094-cd84-4351-9fe1-feb907018b2f\">\n",
       "    <div class=\"colab-df-container\">\n",
       "      <div>\n",
       "<style scoped>\n",
       "    .dataframe tbody tr th:only-of-type {\n",
       "        vertical-align: middle;\n",
       "    }\n",
       "\n",
       "    .dataframe tbody tr th {\n",
       "        vertical-align: top;\n",
       "    }\n",
       "\n",
       "    .dataframe thead th {\n",
       "        text-align: right;\n",
       "    }\n",
       "</style>\n",
       "<table border=\"1\" class=\"dataframe\">\n",
       "  <thead>\n",
       "    <tr style=\"text-align: right;\">\n",
       "      <th></th>\n",
       "      <th>Loves Popcorn</th>\n",
       "      <th>Loves Soda</th>\n",
       "      <th>Age</th>\n",
       "      <th>Loves Cool As Ice</th>\n",
       "    </tr>\n",
       "  </thead>\n",
       "  <tbody>\n",
       "    <tr>\n",
       "      <th>0</th>\n",
       "      <td>Yes</td>\n",
       "      <td>Yes</td>\n",
       "      <td>7</td>\n",
       "      <td>No</td>\n",
       "    </tr>\n",
       "    <tr>\n",
       "      <th>1</th>\n",
       "      <td>Yes</td>\n",
       "      <td>No</td>\n",
       "      <td>12</td>\n",
       "      <td>No</td>\n",
       "    </tr>\n",
       "    <tr>\n",
       "      <th>2</th>\n",
       "      <td>No</td>\n",
       "      <td>Yes</td>\n",
       "      <td>18</td>\n",
       "      <td>Yes</td>\n",
       "    </tr>\n",
       "    <tr>\n",
       "      <th>3</th>\n",
       "      <td>No</td>\n",
       "      <td>Yes</td>\n",
       "      <td>35</td>\n",
       "      <td>Yes</td>\n",
       "    </tr>\n",
       "    <tr>\n",
       "      <th>4</th>\n",
       "      <td>Yes</td>\n",
       "      <td>Yes</td>\n",
       "      <td>38</td>\n",
       "      <td>Yes</td>\n",
       "    </tr>\n",
       "    <tr>\n",
       "      <th>5</th>\n",
       "      <td>Yes</td>\n",
       "      <td>No</td>\n",
       "      <td>50</td>\n",
       "      <td>No</td>\n",
       "    </tr>\n",
       "    <tr>\n",
       "      <th>6</th>\n",
       "      <td>No</td>\n",
       "      <td>No</td>\n",
       "      <td>83</td>\n",
       "      <td>No</td>\n",
       "    </tr>\n",
       "  </tbody>\n",
       "</table>\n",
       "</div>\n",
       "      <button class=\"colab-df-convert\" onclick=\"convertToInteractive('df-07a03094-cd84-4351-9fe1-feb907018b2f')\"\n",
       "              title=\"Convert this dataframe to an interactive table.\"\n",
       "              style=\"display:none;\">\n",
       "        \n",
       "  <svg xmlns=\"http://www.w3.org/2000/svg\" height=\"24px\"viewBox=\"0 0 24 24\"\n",
       "       width=\"24px\">\n",
       "    <path d=\"M0 0h24v24H0V0z\" fill=\"none\"/>\n",
       "    <path d=\"M18.56 5.44l.94 2.06.94-2.06 2.06-.94-2.06-.94-.94-2.06-.94 2.06-2.06.94zm-11 1L8.5 8.5l.94-2.06 2.06-.94-2.06-.94L8.5 2.5l-.94 2.06-2.06.94zm10 10l.94 2.06.94-2.06 2.06-.94-2.06-.94-.94-2.06-.94 2.06-2.06.94z\"/><path d=\"M17.41 7.96l-1.37-1.37c-.4-.4-.92-.59-1.43-.59-.52 0-1.04.2-1.43.59L10.3 9.45l-7.72 7.72c-.78.78-.78 2.05 0 2.83L4 21.41c.39.39.9.59 1.41.59.51 0 1.02-.2 1.41-.59l7.78-7.78 2.81-2.81c.8-.78.8-2.07 0-2.86zM5.41 20L4 18.59l7.72-7.72 1.47 1.35L5.41 20z\"/>\n",
       "  </svg>\n",
       "      </button>\n",
       "      \n",
       "  <style>\n",
       "    .colab-df-container {\n",
       "      display:flex;\n",
       "      flex-wrap:wrap;\n",
       "      gap: 12px;\n",
       "    }\n",
       "\n",
       "    .colab-df-convert {\n",
       "      background-color: #E8F0FE;\n",
       "      border: none;\n",
       "      border-radius: 50%;\n",
       "      cursor: pointer;\n",
       "      display: none;\n",
       "      fill: #1967D2;\n",
       "      height: 32px;\n",
       "      padding: 0 0 0 0;\n",
       "      width: 32px;\n",
       "    }\n",
       "\n",
       "    .colab-df-convert:hover {\n",
       "      background-color: #E2EBFA;\n",
       "      box-shadow: 0px 1px 2px rgba(60, 64, 67, 0.3), 0px 1px 3px 1px rgba(60, 64, 67, 0.15);\n",
       "      fill: #174EA6;\n",
       "    }\n",
       "\n",
       "    [theme=dark] .colab-df-convert {\n",
       "      background-color: #3B4455;\n",
       "      fill: #D2E3FC;\n",
       "    }\n",
       "\n",
       "    [theme=dark] .colab-df-convert:hover {\n",
       "      background-color: #434B5C;\n",
       "      box-shadow: 0px 1px 3px 1px rgba(0, 0, 0, 0.15);\n",
       "      filter: drop-shadow(0px 1px 2px rgba(0, 0, 0, 0.3));\n",
       "      fill: #FFFFFF;\n",
       "    }\n",
       "  </style>\n",
       "\n",
       "      <script>\n",
       "        const buttonEl =\n",
       "          document.querySelector('#df-07a03094-cd84-4351-9fe1-feb907018b2f button.colab-df-convert');\n",
       "        buttonEl.style.display =\n",
       "          google.colab.kernel.accessAllowed ? 'block' : 'none';\n",
       "\n",
       "        async function convertToInteractive(key) {\n",
       "          const element = document.querySelector('#df-07a03094-cd84-4351-9fe1-feb907018b2f');\n",
       "          const dataTable =\n",
       "            await google.colab.kernel.invokeFunction('convertToInteractive',\n",
       "                                                     [key], {});\n",
       "          if (!dataTable) return;\n",
       "\n",
       "          const docLinkHtml = 'Like what you see? Visit the ' +\n",
       "            '<a target=\"_blank\" href=https://colab.research.google.com/notebooks/data_table.ipynb>data table notebook</a>'\n",
       "            + ' to learn more about interactive tables.';\n",
       "          element.innerHTML = '';\n",
       "          dataTable['output_type'] = 'display_data';\n",
       "          await google.colab.output.renderOutput(dataTable, element);\n",
       "          const docLink = document.createElement('div');\n",
       "          docLink.innerHTML = docLinkHtml;\n",
       "          element.appendChild(docLink);\n",
       "        }\n",
       "      </script>\n",
       "    </div>\n",
       "  </div>\n",
       "  "
      ],
      "text/plain": [
       "  Loves Popcorn Loves Soda  Age Loves Cool As Ice\n",
       "0           Yes        Yes    7                No\n",
       "1           Yes         No   12                No\n",
       "2            No        Yes   18               Yes\n",
       "3            No        Yes   35               Yes\n",
       "4           Yes        Yes   38               Yes\n",
       "5           Yes         No   50                No\n",
       "6            No         No   83                No"
      ]
     },
     "execution_count": 16,
     "metadata": {},
     "output_type": "execute_result"
    }
   ],
   "source": [
    "import pandas as pd\n",
    "df=pd.read_csv(\"/content/data.csv\")\n",
    "df"
   ]
  },
  {
   "cell_type": "markdown",
   "metadata": {
    "id": "bDRSgsDiv7ch"
   },
   "source": [
    "![equation.png](data:image/png;base64,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)"
   ]
  },
  {
   "cell_type": "code",
   "execution_count": 51,
   "metadata": {
    "colab": {
     "base_uri": "https://localhost:8080/"
    },
    "id": "v6XmG_pj9KbM",
    "outputId": "a59067fd-dae3-46d8-acd5-d81200803cbe"
   },
   "outputs": [
    {
     "name": "stdout",
     "output_type": "stream",
     "text": [
      "{'f_true': {'l_yes': 0, 'l_no': 1}, 'f_false': {'l_yes': 3, 'l_no': 3}}\n",
      "{'f_true': {'l_yes': 0, 'l_no': 2}, 'f_false': {'l_yes': 3, 'l_no': 2}}\n",
      "{'f_true': {'l_yes': 1, 'l_no': 2}, 'f_false': {'l_yes': 2, 'l_no': 2}}\n",
      "{'f_true': {'l_yes': 2, 'l_no': 2}, 'f_false': {'l_yes': 1, 'l_no': 2}}\n",
      "{'f_true': {'l_yes': 3, 'l_no': 2}, 'f_false': {'l_yes': 0, 'l_no': 2}}\n",
      "{'f_true': {'l_yes': 3, 'l_no': 3}, 'f_false': {'l_yes': 0, 'l_no': 1}}\n"
     ]
    }
   ],
   "source": [
    "#calculate the no of true-false and yes-no in love_popcorn and love_soda\n",
    "def return_true_false(feature,label):\n",
    "  feature_value={}\n",
    "  feature_value['f_true']={}\n",
    "  feature_value['f_false']={}\n",
    "  feature_value['f_true']['l_yes']=0\n",
    "  feature_value['f_true']['l_no']=0\n",
    "  feature_value['f_false']['l_yes']=0\n",
    "  feature_value['f_false']['l_no']=0\n",
    "  for f,l in zip(feature,label):\n",
    "    if f=='Yes' and l=='Yes':\n",
    "      feature_value['f_true']['l_yes']=feature_value['f_true']['l_yes']+1\n",
    "    elif f=='Yes' and l=='No':\n",
    "      feature_value['f_true']['l_no']=feature_value['f_true']['l_no']+1\n",
    "    elif f=='No' and l=='Yes':\n",
    "      feature_value['f_false']['l_yes']=feature_value['f_false']['l_yes']+1\n",
    "    elif f=='No' and l=='No':\n",
    "      feature_value['f_false']['l_no']=feature_value['f_false']['l_no']+1\n",
    "  return feature_value\n",
    "#calculate the no of true-false and yes-no in age\n",
    "def return_true_false2(feature,label,age):\n",
    "  feature_value={}\n",
    "  feature_value['f_true']={}\n",
    "  feature_value['f_false']={}\n",
    "  feature_value['f_true']['l_yes']=0\n",
    "  feature_value['f_true']['l_no']=0\n",
    "  feature_value['f_false']['l_yes']=0\n",
    "  feature_value['f_false']['l_no']=0\n",
    "  for f,l in zip(feature,label):\n",
    "    if f<age and l=='Yes':\n",
    "      feature_value['f_true']['l_yes']=feature_value['f_true']['l_yes']+1\n",
    "    elif f<age and l=='No':\n",
    "      feature_value['f_true']['l_no']=feature_value['f_true']['l_no']+1\n",
    "    elif f>=age and l=='Yes':\n",
    "      feature_value['f_false']['l_yes']=feature_value['f_false']['l_yes']+1\n",
    "    elif f>=age and l=='No':\n",
    "      feature_value['f_false']['l_no']=feature_value['f_false']['l_no']+1\n",
    "  return feature_value\n",
    "def gini_impurity1(value):\n",
    "  total=0\n",
    "  total=value['f_true']['l_yes']+value['f_true']['l_no']+value[\"f_false\"]['l_yes']+value[\"f_false\"]['l_no']\n",
    "  total_gini_impurity=0\n",
    "  for x in value:\n",
    "    try:\n",
    "      #calculation of gini impurity\n",
    "      prob1=(value[x]['l_yes']/(value[x]['l_yes']+value[x]['l_no']))**2\n",
    "      prob2=(value[x]['l_no']/(value[x]['l_yes']+value[x]['l_no']))**2\n",
    "      prob=1-prob1-prob2\n",
    "      #calculation of total gini impurity\n",
    "      total_gini_impurity+=((value[x]['l_yes']+value[x]['l_no'])/total)*prob\n",
    "    except:\n",
    "      total_gini_impurity+=0\n",
    "    \n",
    "  return total_gini_impurity\n"
   ]
  },
  {
   "cell_type": "code",
   "execution_count": 57,
   "metadata": {
    "id": "i0Jqw7dVAjvo"
   },
   "outputs": [],
   "source": [
    "love_popcorn=return_true_false(df['Loves Popcorn'],df['Loves Cool As Ice'])\n",
    "love_soda=return_true_false(df['Loves Soda'],df['Loves Cool As Ice'])\n",
    "love_popcorn_value=gini_impurity1(love_popcorn)\n",
    "love_soda_value=gini_impurity1(love_soda)"
   ]
  },
  {
   "cell_type": "code",
   "execution_count": 53,
   "metadata": {
    "id": "Zv2HIGPrUhCr"
   },
   "outputs": [],
   "source": [
    "arr=[]\n",
    "for i,x in enumerate(df['Age']):\n",
    "  if i==0:\n",
    "    continue\n",
    "  else:\n",
    "    arr.append((df['Age'][i]+df['Age'][i-1])/2)\n",
    "all_age_gini=[]\n",
    "for x in arr:\n",
    "  #calculation of gini impurity on each middle age\n",
    "  temp=return_true_false2(df['Age'],df['Loves Cool As Ice'],x)\n",
    "  all_age_gini.append(gini_impurity1(temp))\n"
   ]
  },
  {
   "cell_type": "code",
   "execution_count": 56,
   "metadata": {
    "colab": {
     "base_uri": "https://localhost:8080/"
    },
    "id": "1Vn7c00z9LJN",
    "outputId": "d854490e-9dd9-4504-8d0b-49ee44215164"
   },
   "outputs": [
    {
     "name": "stdout",
     "output_type": "stream",
     "text": [
      "15.0\n"
     ]
    }
   ],
   "source": [
    "mini=min(all_age_gini)\n",
    "for i,x in enumerate(all_age_gini):\n",
    "  if mini==x:\n",
    "    age_value=arr[i]\n",
    "    break\n"
   ]
  },
  {
   "cell_type": "code",
   "execution_count": 60,
   "metadata": {
    "colab": {
     "base_uri": "https://localhost:8080/"
    },
    "id": "O6QiN-sZCi01",
    "outputId": "178a4497-11eb-4af8-a84c-53ee2a704b53"
   },
   "outputs": [
    {
     "data": {
      "text/plain": [
       "[('love_soda', 0.21428571428571427),\n",
       " ('age', 0.34285714285714286),\n",
       " ('love_popcorn_value', 0.40476190476190477)]"
      ]
     },
     "execution_count": 60,
     "metadata": {},
     "output_type": "execute_result"
    }
   ],
   "source": [
    "decision_tree={'love_soda':love_soda_value,'love_popcorn_value':love_popcorn_value,'age':mini}\n",
    "sorted_decision_tree = sorted(decision_tree.items(), key=lambda x: x[1], reverse=False)\n",
    "sorted_decision_tree"
   ]
  },
  {
   "cell_type": "code",
   "execution_count": null,
   "metadata": {
    "id": "udNRPGVCaO-n"
   },
   "outputs": [],
   "source": []
  }
 ],
 "metadata": {
  "colab": {
   "provenance": []
  },
  "kernelspec": {
   "display_name": "Python 3 (ipykernel)",
   "language": "python",
   "name": "python3"
  },
  "language_info": {
   "codemirror_mode": {
    "name": "ipython",
    "version": 3
   },
   "file_extension": ".py",
   "mimetype": "text/x-python",
   "name": "python",
   "nbconvert_exporter": "python",
   "pygments_lexer": "ipython3",
   "version": "3.9.13"
  }
 },
 "nbformat": 4,
 "nbformat_minor": 1
}
